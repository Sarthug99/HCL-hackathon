{
 "cells": [
  {
   "cell_type": "markdown",
   "metadata": {},
   "source": [
    "# Dynamic Data Analysis"
   ]
  },
  {
   "cell_type": "markdown",
   "metadata": {},
   "source": [
    "We begin by importing all the necessary libraries"
   ]
  },
  {
   "cell_type": "code",
   "execution_count": 1,
   "metadata": {},
   "outputs": [],
   "source": [
    "# For preprocessing\n",
    "import os\n",
    "from glob import glob\n",
    "import statistics\n",
    "import json\n",
    "\n",
    "# For visualization\n",
    "import matplotlib.pyplot as plt\n",
    "%matplotlib inline\n",
    "\n",
    "# For training\n",
    "from sklearn.ensemble import RandomForestClassifier\n",
    "from sklearn.model_selection import train_test_split\n",
    "import numpy as np\n",
    "import time\n",
    "\n",
    "# For testing\n",
    "from sklearn.metrics import confusion_matrix\n",
    "\n",
    "# For exporting\n",
    "import pickle"
   ]
  },
  {
   "cell_type": "markdown",
   "metadata": {},
   "source": [
    "# Analysis"
   ]
  },
  {
   "cell_type": "markdown",
   "metadata": {},
   "source": [
    "We'll begin our analysis by making a list of all the files that are available to us for analysis"
   ]
  },
  {
   "cell_type": "code",
   "execution_count": 2,
   "metadata": {},
   "outputs": [],
   "source": [
    "malware_dir_1 = \"../../Dynamic_Analysis_Data_Part1/Malware\"\n",
    "benign_dir_1 = \"../../Dynamic_Analysis_Data_Part1/Benign\"\n",
    "malware_dir_2 = \"../../Dynamic_Analysis_Data_Part2/Malware\"\n",
    "benign_dir_2 = \"../../Dynamic_Analysis_Data_Part2/Benign\"\n",
    "malwares = []\n",
    "benigns = []\n",
    "\n",
    "for malware in glob(os.path.join(malware_dir_1, \"*\")):\n",
    "    malwares += glob(os.path.join(malware, \"*\"))\n",
    "    \n",
    "benigns = glob(os.path.join(benign_dir_1, \"*\"))\n",
    "\n",
    "for malware in glob(os.path.join(malware_dir_2, \"*\")):\n",
    "    malwares += glob(os.path.join(malware, \"*\"))\n",
    "    \n",
    "benigns = glob(os.path.join(benign_dir_2, \"*\"))"
   ]
  },
  {
   "cell_type": "markdown",
   "metadata": {},
   "source": [
    "Now, lets have a look at our features to get a better understand of our data."
   ]
  },
  {
   "cell_type": "markdown",
   "metadata": {},
   "source": [
    "In this case, we were able to get incredible results using just one feature - Severity.\n",
    "\n",
    "Severity is a measure (on a scale of 8) of how critical the code section that is being executed is.\n",
    "\n",
    "In general, malwares will try to access more critical code and thus attain a higher severity rate."
   ]
  },
  {
   "cell_type": "code",
   "execution_count": 3,
   "metadata": {},
   "outputs": [
    {
     "data": {
      "image/png": "[encoded data removed]",
      "text/plain": [
       "<Figure size 432x288 with 2 Axes>"
      ]
     },
     "metadata": {
      "needs_background": "light"
     },
     "output_type": "display_data"
    }
   ],
   "source": [
    "def max_severity(f_path):\n",
    "    f = open(f_path, \"r\", errors=\"ignore\", encoding=\"utf8\")\n",
    "    f = json.load(f)\n",
    "    severities = [0]\n",
    "    for each in f[\"signatures\"]:\n",
    "        severities.append(each[\"severity\"])\n",
    "    return max(severities)\n",
    "\n",
    "benign_vals = []\n",
    "malware_vals = []\n",
    "\n",
    "for file in benigns:\n",
    "    benign_vals.append(max_severity(file))\n",
    "\n",
    "for file in malwares:\n",
    "    malware_vals.append(max_severity(file))\n",
    "\n",
    "# creating the bar plot \n",
    "plt.subplot(1, 2, 1)\n",
    "plt.bar(np.arange(9),\n",
    "        [benign_vals.count(i) for i in range(9)],\n",
    "        color ='skyblue') \n",
    "plt.ylabel(\"Count of files\")\n",
    "plt.xlabel(\"Severity\")\n",
    "plt.title(\"Severity wise\\ncount of benign files\")\n",
    "\n",
    "plt.subplot(1, 2, 2)\n",
    "plt.bar(np.arange(9),\n",
    "        [malware_vals.count(i) for i in range(9)],\n",
    "        color ='skyblue') \n",
    "plt.ylabel(\"Count of files\")\n",
    "plt.xlabel(\"Severity\")\n",
    "plt.title(\"Severity wise\\ncount of malware files\")\n",
    "\n",
    "plt.tight_layout()\n",
    "plt.show() "
   ]
  },
  {
   "cell_type": "markdown",
   "metadata": {},
   "source": [
    "Clearly, severity is a great feature to determine whether the given code is malicious or not.\n",
    "\n",
    "Let's try to see if we can get decent results using just this one particular feature."
   ]
  },
  {
   "cell_type": "markdown",
   "metadata": {},
   "source": [
    "# Training"
   ]
  },
  {
   "cell_type": "markdown",
   "metadata": {},
   "source": [
    "We will use the function we defined above to extract features.\n",
    "\n",
    "For the sake of abstract and future use, we will create a wrapper function that for now, only calls that one function."
   ]
  },
  {
   "cell_type": "code",
   "execution_count": 4,
   "metadata": {},
   "outputs": [],
   "source": [
    "def extract_features(f_path):\n",
    "    return [max_severity(f_path)]"
   ]
  },
  {
   "cell_type": "markdown",
   "metadata": {},
   "source": [
    "Next, we write the code to send files from our dataset for feature extraction"
   ]
  },
  {
   "cell_type": "code",
   "execution_count": 5,
   "metadata": {},
   "outputs": [],
   "source": [
    "# Number of samples to take of each type. Set as a negative to use entire dataset\n",
    "limit = -1\n",
    "\n",
    "x = []\n",
    "y = []\n",
    "\n",
    "i = 0\n",
    "for file in benigns:\n",
    "    x.append(extract_features(file))\n",
    "    y.append(0)\n",
    "    i += 1\n",
    "    if i == limit:\n",
    "        break\n",
    "\n",
    "i = 0\n",
    "for file in malwares:\n",
    "    x.append(extract_features(file))\n",
    "    y.append(1)\n",
    "    i += 1\n",
    "    if i == limit:\n",
    "        break\n",
    "\n",
    "x = np.array(x)\n",
    "y = np.array(y)\n",
    "\n",
    "x_train, x_test, y_train, y_test = train_test_split(x, y,\n",
    "                                                    test_size=0.25,\n",
    "                                                    random_state=42)"
   ]
  },
  {
   "cell_type": "markdown",
   "metadata": {},
   "source": [
    "Now, onto the actual trainning.\n",
    "\n",
    "We use Random Forest Classifier as the data is highly threshold based. Forest classifiers give good results on such data."
   ]
  },
  {
   "cell_type": "code",
   "execution_count": 6,
   "metadata": {},
   "outputs": [
    {
     "name": "stdout",
     "output_type": "stream",
     "text": [
      "Training time: 0.2561626434326172 seconds\n"
     ]
    }
   ],
   "source": [
    "cls = RandomForestClassifier()\n",
    "start = time.time()\n",
    "cls.fit(x_train, y_train)\n",
    "stop = time.time()\n",
    "print(f\"Training time: {stop - start} seconds\")"
   ]
  },
  {
   "cell_type": "markdown",
   "metadata": {},
   "source": [
    "# Testing"
   ]
  },
  {
   "cell_type": "markdown",
   "metadata": {},
   "source": [
    "Now that our model is trained, we can test it's accuracy and speed"
   ]
  },
  {
   "cell_type": "code",
   "execution_count": 7,
   "metadata": {},
   "outputs": [
    {
     "name": "stdout",
     "output_type": "stream",
     "text": [
      "Accuracy: 0.9967811158798283\n",
      "Precision:  0.9923780487804879\n",
      "Recall:  0.9984662576687117\n",
      "F-score:  0.9954128440366974\n",
      "Testing time: 0.027327775955200195 seconds for 1864 predictions\n"
     ]
    }
   ],
   "source": [
    "start = time.time()\n",
    "accuracy = str(cls.score(x_test, y_test))\n",
    "stop = time.time()\n",
    "\n",
    "y_pred = cls.predict(x_test)\n",
    "tp, fp, fn, tn = confusion_matrix(y_test, y_pred).ravel()\n",
    "\n",
    "precision = tp/(tp + fp)\n",
    "recall = tp/(tp + fn)\n",
    "fscore =  2*((precision*recall)/(precision+recall))\n",
    "\n",
    "print(\"Accuracy: \" + accuracy)\n",
    "print(\"Precision: \", precision)\n",
    "print(\"Recall: \", recall)\n",
    "print(\"F-score: \", fscore)\n",
    "print(f\"Testing time: {(stop - start)} seconds for {len(y_test)} predictions\")"
   ]
  },
  {
   "cell_type": "markdown",
   "metadata": {},
   "source": [
    "Clearly, our model is able to give us incredible accuracy and speed with just one feature.\n",
    "\n",
    "This is the most ideal possible case for a ML algorithm."
   ]
  },
  {
   "cell_type": "markdown",
   "metadata": {},
   "source": [
    "# Export"
   ]
  },
  {
   "cell_type": "code",
   "execution_count": 8,
   "metadata": {},
   "outputs": [],
   "source": [
    "pickle.dump(cls, open(\"./dynamic_model\", 'wb'))"
   ]
  }
 ],
 "metadata": {
  "kernelspec": {
   "display_name": "Python 3",
   "language": "python",
   "name": "python3"
  },
  "language_info": {
   "codemirror_mode": {
    "name": "ipython",
    "version": 3
   },
   "file_extension": ".py",
   "mimetype": "text/x-python",
   "name": "python",
   "nbconvert_exporter": "python",
   "pygments_lexer": "ipython3",
   "version": "3.8.3"
  }
 },
 "nbformat": 4,
 "nbformat_minor": 4
}
