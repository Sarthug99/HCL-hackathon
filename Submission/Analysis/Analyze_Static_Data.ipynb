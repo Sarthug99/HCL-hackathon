{
 "cells": [
  {
   "cell_type": "markdown",
   "metadata": {},
   "source": [
    "# Static Data Analysis"
   ]
  },
  {
   "cell_type": "markdown",
   "metadata": {},
   "source": [
    "We begin by importing all the necessary libraries"
   ]
  },
  {
   "cell_type": "code",
   "execution_count": 1,
   "metadata": {},
   "outputs": [],
   "source": [
    "# For preprocessing\n",
    "import os\n",
    "from glob import glob\n",
    "import statistics\n",
    "import numpy as np\n",
    "\n",
    "# For visualization\n",
    "import matplotlib.pyplot as plt\n",
    "%matplotlib inline\n",
    "\n",
    "# For training\n",
    "from sklearn.ensemble import RandomForestClassifier\n",
    "from sklearn.model_selection import train_test_split\n",
    "import time\n",
    "\n",
    "# For testing\n",
    "from sklearn.metrics import confusion_matrix\n",
    "\n",
    "# For exporting\n",
    "import pickle"
   ]
  },
  {
   "cell_type": "markdown",
   "metadata": {},
   "source": [
    "# Analysis"
   ]
  },
  {
   "cell_type": "markdown",
   "metadata": {},
   "source": [
    "We begin our analysis by making a list of all the files that are available to us for analysis"
   ]
  },
  {
   "cell_type": "code",
   "execution_count": 2,
   "metadata": {},
   "outputs": [],
   "source": [
    "# Path to parent directory of all malware\n",
    "malware_dir = \"../../Static_Analysis_Data/Malware\"\n",
    "\n",
    "# Path to parent directory of all benign hash names\n",
    "benign_dir = \"../../Static_Analysis_Data/Benign\"\n",
    "\n",
    "malwares = []\n",
    "benigns = []\n",
    "\n",
    "# Extract and save path of each data point\n",
    "for malware in glob(os.path.join(malware_dir, \"*\")):\n",
    "    malwares += glob(os.path.join(malware, \"*\"))\n",
    "    \n",
    "benigns = glob(os.path.join(benign_dir, \"*\"))"
   ]
  },
  {
   "cell_type": "markdown",
   "metadata": {},
   "source": [
    "Now, lets have a look at our features to get a better understand of our data."
   ]
  },
  {
   "cell_type": "markdown",
   "metadata": {},
   "source": [
    "Our first feature is the count of the number of signs of a bad compiler.\n",
    "\n",
    "This involves leaving checksum as 0x0, using characteristic 0x10F(makes the section executable) and also using blank names for sections of the PE file.\n",
    "Good compilers generally do not generate or allow such features to exist."
   ]
  },
  {
   "cell_type": "code",
   "execution_count": 3,
   "metadata": {},
   "outputs": [
    {
     "data": {
      "image/png": "[encoded data removed]",
      "text/plain": [
       "<Figure size 432x288 with 1 Axes>"
      ]
     },
     "metadata": {
      "needs_background": "light"
     },
     "output_type": "display_data"
    },
    {
     "name": "stdout",
     "output_type": "stream",
     "text": [
      "Benigns with no bad compiler features: 3099/5000 files\n",
      "Malicious with no bad compiler features: 1138/5000 files\n"
     ]
    }
   ],
   "source": [
    "def signs_of_bad_compiler(f_path):\n",
    "    count = 0\n",
    "    f = open(f_path + \"/Structure_Info.txt\", \"r\", errors=\"ignore\", encoding=\"utf8\")\n",
    "    lines = f.read()\n",
    "    \n",
    "    count += lines.count(\"CheckSum:                      0x0\")\n",
    "    \n",
    "    count += lines.count(\"Characteristics:               0x10F\")\n",
    "    \n",
    "    split = lines.split(\"----------PE Sections----------\")\n",
    "    if len(split) != 1:\n",
    "        split = split[1].split(\"----------\")\n",
    "        split = split[0].split(\"\\n\")\n",
    "        for line in split:\n",
    "            split = line.split(\"0x0   Name:\")\n",
    "            if len(split) != 1:\n",
    "                name = split[1].strip()\n",
    "                if name == \"\":\n",
    "                    count += 1\n",
    "    return count\n",
    "\n",
    "benign_vals = []\n",
    "malware_vals = []\n",
    "\n",
    "for file in benigns:\n",
    "    benign_vals.append(signs_of_bad_compiler(file))\n",
    "\n",
    "for file in malwares:\n",
    "    malware_vals.append(signs_of_bad_compiler(file))\n",
    "\n",
    "# creating the bar plot \n",
    "plt.bar([\"Benign\", \"Malicious\"],\n",
    "        [benign_vals.count(0), malware_vals.count(0)],\n",
    "        color ='skyblue') \n",
    "  \n",
    "plt.ylabel(\"Count of files with\\nno signs of bad compiler\")\n",
    "plt.xlabel(\"Type of file\")\n",
    "plt.show() \n",
    "\n",
    "print(\"Benigns with no bad compiler features: \"\n",
    "      + str(benign_vals.count(0))\n",
    "      + \"/5000 files\")\n",
    "print(\"Malicious with no bad compiler features: \"\n",
    "      + str(malware_vals.count(0))\n",
    "      + \"/5000 files\")"
   ]
  },
  {
   "cell_type": "markdown",
   "metadata": {},
   "source": [
    "Next, we'll run an analysis on all benign files to get the top 7 most common external functions they call.\n",
    "We can use the same to determine the probablity of a file being benign by assuming it to be characteristic of benign apps."
   ]
  },
  {
   "cell_type": "code",
   "execution_count": 4,
   "metadata": {},
   "outputs": [
    {
     "data": {
      "image/png": "[encoded data removed]",
      "text/plain": [
       "<Figure size 432x288 with 1 Axes>"
      ]
     },
     "metadata": {
      "needs_background": "light"
     },
     "output_type": "display_data"
    },
    {
     "name": "stdout",
     "output_type": "stream",
     "text": [
      "Benigns with common calls: 2116/5000 files\n",
      "Malicious with common calls: 259/5000 files\n"
     ]
    }
   ],
   "source": [
    "good_props = [\"MapViewOfFile\", \"ResumeThread\", \"SetWindowsHookExW\",\n",
    "              \"CryptGenRandom\", \"CryptAcquireContextW\", \"CreateToolhelp32Snapshot\",\n",
    "              \"CertDuplicateCertificateContext\"]\n",
    "\n",
    "def functions_of_benign(f_path):\n",
    "    count = 0\n",
    "    f = open(f_path + \"/Structure_Info.txt\", \"r\", errors=\"ignore\", encoding=\"utf8\")\n",
    "    lines = f.read()\n",
    "    for prop in good_props:\n",
    "        count += lines.count(prop)\n",
    "    return count\n",
    "\n",
    "benign_vals = []\n",
    "malware_vals = []\n",
    "\n",
    "for file in benigns:\n",
    "    benign_vals.append(functions_of_benign(file))\n",
    "\n",
    "for file in malwares:\n",
    "    malware_vals.append(functions_of_benign(file))\n",
    "\n",
    "# creating the bar plot \n",
    "plt.bar([\"Benign\", \"Malicious\"],\n",
    "        [len([i for i in benign_vals if i > 0]), len([i for i in malware_vals if i > 0])],\n",
    "        color ='skyblue') \n",
    "  \n",
    "plt.ylabel(\"Count of files with\\natleast one such call\") \n",
    "plt.show() \n",
    "print(\"Benigns with common calls: \"\n",
    "      + str(len([i for i in benign_vals if i > 0]))\n",
    "      + \"/5000 files\")\n",
    "print(\"Malicious with common calls: \"\n",
    "      + str(len([i for i in malware_vals if i > 0]))\n",
    "      + \"/5000 files\")"
   ]
  },
  {
   "cell_type": "markdown",
   "metadata": {},
   "source": [
    "Our next feature is the number of \"Suspicious flag\" warnings in the PE file"
   ]
  },
  {
   "cell_type": "code",
   "execution_count": 5,
   "metadata": {},
   "outputs": [
    {
     "data": {
      "image/png": "[encoded data removed]",
      "text/plain": [
       "<Figure size 432x288 with 1 Axes>"
      ]
     },
     "metadata": {
      "needs_background": "light"
     },
     "output_type": "display_data"
    },
    {
     "name": "stdout",
     "output_type": "stream",
     "text": [
      "Benign files with warnings: 556/5000 files\n",
      "Malicious files with warnings: 1870/5000 files\n"
     ]
    }
   ],
   "source": [
    "def num_of_warnings(f_path):\n",
    "    count = 0\n",
    "    f = open(f_path + \"/Structure_Info.txt\", \"r\", errors=\"ignore\", encoding=\"utf8\")\n",
    "    lines = f.read()\n",
    "    count += lines.count(\"Suspicious flags\")\n",
    "    return count\n",
    "\n",
    "benign_vals = []\n",
    "malware_vals = []\n",
    "\n",
    "for file in benigns:\n",
    "    benign_vals.append(num_of_warnings(file))\n",
    "\n",
    "for file in malwares:\n",
    "    malware_vals.append(num_of_warnings(file))\n",
    "\n",
    "# creating the bar plot \n",
    "plt.bar([\"Benign\", \"Malicious\"],\n",
    "        [len([i for i in benign_vals if i > 0]), len([i for i in malware_vals if i > 0])],\n",
    "        color ='skyblue') \n",
    "  \n",
    "plt.ylabel(\"Count of files with\\natleast one warning\") \n",
    "plt.show() \n",
    "\n",
    "print(\"Benign files with warnings: \"\n",
    "      + str(len([i for i in benign_vals if i > 0]))\n",
    "      + \"/5000 files\")\n",
    "print(\"Malicious files with warnings: \"\n",
    "      + str(len([i for i in malware_vals if i > 0]))\n",
    "      + \"/5000 files\")"
   ]
  },
  {
   "cell_type": "markdown",
   "metadata": {},
   "source": [
    "Finally, we get to our most important feature - Entropy.\n",
    "The PE sections contain data which usually has a known entropy. Higher entropy can indicate packed data. Malicious files are commonly packed to avoid static analysis since the actual code is usually stored encrypted in one of the sections and will only be extracted at runtime.\n",
    "\n",
    "We extract the minimum, maximum and the mean of all entropies from each file."
   ]
  },
  {
   "cell_type": "code",
   "execution_count": 6,
   "metadata": {},
   "outputs": [
    {
     "data": {
      "image/png": "[encoded data removed]",
      "text/plain": [
       "<Figure size 432x288 with 1 Axes>"
      ]
     },
     "metadata": {
      "needs_background": "light"
     },
     "output_type": "display_data"
    },
    {
     "name": "stdout",
     "output_type": "stream",
     "text": [
      "Benign files with mean entropy > 5.8: 210\n",
      "Malicious files with mean entropy > 5.8: 1397\n"
     ]
    }
   ],
   "source": [
    "def calc_entropy(f_path):\n",
    "    entropy = []\n",
    "    f = open(f_path + \"/Structure_Info.txt\", \"r\", errors=\"ignore\", encoding=\"utf8\")\n",
    "    lines = f.read()\n",
    "    entropy_split = lines.split(\"Entropy: \")\n",
    "    for each in entropy_split[1:]:\n",
    "        entropy.append(float(each.split(\" \")[0]))\n",
    "    if not bool(entropy):\n",
    "        return [0, 0, 0]\n",
    "    return [min(entropy), max(entropy), statistics.mean(entropy)]\n",
    "\n",
    "benign_vals = []\n",
    "malware_vals = []\n",
    "\n",
    "for file in benigns:\n",
    "    benign_vals.append(calc_entropy(file))\n",
    "\n",
    "for file in malwares:\n",
    "    malware_vals.append(calc_entropy(file))\n",
    "\n",
    "benign_count = 0\n",
    "malware_count = 0\n",
    "\n",
    "for each in benign_vals:\n",
    "    if each[2] > 5.8:\n",
    "        benign_count += 1\n",
    "        \n",
    "for each in malware_vals:\n",
    "    if each[2] > 5.8:\n",
    "        malware_count += 1\n",
    "\n",
    "# creating the bar plot \n",
    "plt.bar([\"Benign\", \"Malicious\"],\n",
    "        [benign_count, malware_count],\n",
    "        color ='skyblue') \n",
    "  \n",
    "plt.ylabel(\"Count of files with\\n mean entropy > 5.8\") \n",
    "plt.show() \n",
    "\n",
    "print(\"Benign files with mean entropy > 5.8: \" + str(benign_count))\n",
    "print(\"Malicious files with mean entropy > 5.8: \" + str(malware_count))"
   ]
  },
  {
   "cell_type": "markdown",
   "metadata": {},
   "source": [
    "# Training"
   ]
  },
  {
   "cell_type": "markdown",
   "metadata": {},
   "source": [
    "First, we define a function to extract features by calling all the functions that we defined earlier."
   ]
  },
  {
   "cell_type": "code",
   "execution_count": 7,
   "metadata": {},
   "outputs": [],
   "source": [
    "def extract_features(f_path):\n",
    "    \n",
    "    features = [0, 0, 0, 0, 0, 0]  \n",
    "    \n",
    "    features[0] = signs_of_bad_compiler(f_path)\n",
    "    \n",
    "    features[1] = functions_of_benign(f_path)\n",
    "    \n",
    "    features[2] = num_of_warnings(f_path)\n",
    "    \n",
    "    features[3], features[4], features[5] = calc_entropy(f_path)\n",
    "    \n",
    "    return features"
   ]
  },
  {
   "cell_type": "markdown",
   "metadata": {},
   "source": [
    "Next, we write the code to send files from our dataset for feature extraction"
   ]
  },
  {
   "cell_type": "code",
   "execution_count": 8,
   "metadata": {},
   "outputs": [],
   "source": [
    "# Number of samples to take of each type. Set as a negative number to use entire dataset\n",
    "limit = -1\n",
    "\n",
    "\n",
    "x = []\n",
    "y = []\n",
    "\n",
    "i = 0\n",
    "for file in benigns:\n",
    "    x.append(extract_features(file))\n",
    "    y.append(0)\n",
    "    i += 1\n",
    "    if i == limit:\n",
    "        break\n",
    "\n",
    "i = 0\n",
    "for file in malwares:\n",
    "    x.append(extract_features(file))\n",
    "    y.append(1)\n",
    "    i += 1\n",
    "    if i == limit:\n",
    "        break\n",
    "\n",
    "x = np.array(x)\n",
    "y = np.array(y)\n",
    "\n",
    "x_train, x_test, y_train, y_test = train_test_split(x, y, test_size=0.25, random_state=42)"
   ]
  },
  {
   "cell_type": "markdown",
   "metadata": {},
   "source": [
    "Now, onto the actual trainning.\n",
    "\n",
    "We use Random Forest Classifier as the data is highly threshold based. Forest classifiers give good results on such data."
   ]
  },
  {
   "cell_type": "code",
   "execution_count": 9,
   "metadata": {
    "scrolled": false
   },
   "outputs": [
    {
     "name": "stdout",
     "output_type": "stream",
     "text": [
      "Training time: 0.3051488399505615 seconds\n"
     ]
    }
   ],
   "source": [
    "cls = RandomForestClassifier(n_estimators=50)\n",
    "start = time.time()\n",
    "cls.fit(x_train, y_train)\n",
    "stop = time.time()\n",
    "print(f\"Training time: {stop - start} seconds\")"
   ]
  },
  {
   "cell_type": "markdown",
   "metadata": {},
   "source": [
    "# Testing"
   ]
  },
  {
   "cell_type": "markdown",
   "metadata": {},
   "source": [
    "Now that our model is trained, we can test it's accuracy and speed"
   ]
  },
  {
   "cell_type": "code",
   "execution_count": 10,
   "metadata": {},
   "outputs": [
    {
     "name": "stdout",
     "output_type": "stream",
     "text": [
      "Accuracy: 0.97\n",
      "Precision:  0.9669811320754716\n",
      "Recall:  0.9738717339667459\n",
      "F-score:  0.9704142011834319\n",
      "Testing time: 0.032489776611328125 seconds for 2500 predictions\n"
     ]
    }
   ],
   "source": [
    "start = time.time()\n",
    "accuracy = str(cls.score(x_test, y_test))\n",
    "stop = time.time()\n",
    "y_pred = cls.predict(x_test)\n",
    "tp, fp, fn, tn = confusion_matrix(y_test, y_pred).ravel()\n",
    "\n",
    "precision = tp/(tp + fp)\n",
    "recall = tp/(tp + fn)\n",
    "fscore =  2*((precision*recall)/(precision+recall))\n",
    "\n",
    "print(\"Accuracy: \" + accuracy)\n",
    "print(\"Precision: \", precision)\n",
    "print(\"Recall: \", recall)\n",
    "print(\"F-score: \", fscore)\n",
    "print(f\"Testing time: {(stop - start)} seconds for {len(y_test)} predictions\")"
   ]
  },
  {
   "cell_type": "markdown",
   "metadata": {},
   "source": [
    "# Export Model"
   ]
  },
  {
   "cell_type": "code",
   "execution_count": 11,
   "metadata": {},
   "outputs": [],
   "source": [
    "pickle.dump(cls, open(\"./static_model\", 'wb'))"
   ]
  }
 ],
 "metadata": {
  "kernelspec": {
   "display_name": "Python 3",
   "language": "python",
   "name": "python3"
  },
  "language_info": {
   "codemirror_mode": {
    "name": "ipython",
    "version": 3
   },
   "file_extension": ".py",
   "mimetype": "text/x-python",
   "name": "python",
   "nbconvert_exporter": "python",
   "pygments_lexer": "ipython3",
   "version": "3.8.3"
  }
 },
 "nbformat": 4,
 "nbformat_minor": 4
}
